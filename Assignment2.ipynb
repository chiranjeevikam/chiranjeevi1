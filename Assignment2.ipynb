{
  "nbformat": 4,
  "nbformat_minor": 0,
  "metadata": {
    "colab": {
      "provenance": [],
      "authorship_tag": "ABX9TyNGSmP9hmAi0DPKMtsELfE1",
      "include_colab_link": true
    },
    "kernelspec": {
      "name": "python3",
      "display_name": "Python 3"
    },
    "language_info": {
      "name": "python"
    }
  },
  "cells": [
    {
      "cell_type": "markdown",
      "metadata": {
        "id": "view-in-github",
        "colab_type": "text"
      },
      "source": [
        "<a href=\"https://colab.research.google.com/github/chiranjeevikam/chiranjeevi1/blob/main/Assignment2.ipynb\" target=\"_parent\"><img src=\"https://colab.research.google.com/assets/colab-badge.svg\" alt=\"Open In Colab\"/></a>"
      ]
    },
    {
      "cell_type": "code",
      "execution_count": null,
      "metadata": {
        "colab": {
          "base_uri": "https://localhost:8080/"
        },
        "id": "PYMT6GtH7w_K",
        "outputId": "3ba3f98f-a4f4-4b07-ece8-721ef4d2f664"
      },
      "outputs": [
        {
          "output_type": "stream",
          "name": "stdout",
          "text": [
            "Enter transaction log: D:100 W:10\n",
            "90\n"
          ]
        }
      ],
      "source": [
        "log_message=input(\"Enter transaction log: \")\n",
        "transactions=log_message.split()\n",
        "balance=0\n",
        "for transaction in transactions:\n",
        "  if transaction[0]=='D':\n",
        "    balance +=int(transaction[2:])\n",
        "  elif transaction[0]=='W':\n",
        "    balance -=int(transaction[2:])\n",
        "print(balance)"
      ]
    },
    {
      "cell_type": "code",
      "source": [
        "log_message=input(\"Enter transaction log: \")\n",
        "transactions=log_message.split()\n",
        "balance=0\n",
        "for transaction in transactions:\n",
        "  if transaction[0]=='D':\n",
        "    balance +=int(transaction[2:])\n",
        "  elif transaction[0]=='W':\n",
        "    balance -=int(transaction[2:])\n",
        "print(balance)"
      ],
      "metadata": {
        "colab": {
          "base_uri": "https://localhost:8080/"
        },
        "id": "cX4P8VN676qh",
        "outputId": "4e3073af-ec3a-4cdf-8b41-878b606e19fe"
      },
      "execution_count": null,
      "outputs": [
        {
          "output_type": "stream",
          "name": "stdout",
          "text": [
            "Enter transaction log: D:100 W:200 D:400\n",
            "300\n"
          ]
        }
      ]
    },
    {
      "cell_type": "code",
      "source": [],
      "metadata": {
        "id": "LcQq1qyu8jA_"
      },
      "execution_count": null,
      "outputs": []
    }
  ]
}