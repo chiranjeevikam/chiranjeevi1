{
  "nbformat": 4,
  "nbformat_minor": 0,
  "metadata": {
    "colab": {
      "provenance": [],
      "authorship_tag": "ABX9TyPFZAOC0i2rebKdDTqzzTka",
      "include_colab_link": true
    },
    "kernelspec": {
      "name": "python3",
      "display_name": "Python 3"
    },
    "language_info": {
      "name": "python"
    }
  },
  "cells": [
    {
      "cell_type": "markdown",
      "metadata": {
        "id": "view-in-github",
        "colab_type": "text"
      },
      "source": [
        "<a href=\"https://colab.research.google.com/github/chiranjeevikam/chiranjeevi1/blob/main/assign3_haard_count.ipynb\" target=\"_parent\"><img src=\"https://colab.research.google.com/assets/colab-badge.svg\" alt=\"Open In Colab\"/></a>"
      ]
    },
    {
      "cell_type": "code",
      "execution_count": null,
      "metadata": {
        "colab": {
          "base_uri": "https://localhost:8080/"
        },
        "id": "ZrmItS3eVYZO",
        "outputId": "f5fd8fb0-6f51-4a2c-9d7b-0a611152d76d"
      },
      "outputs": [
        {
          "output_type": "stream",
          "name": "stdout",
          "text": [
            "Enter string to check:: The quick Brow Fox\n",
            "Uppercase count:: 3\n",
            "lowercase count:: 12\n"
          ]
        }
      ],
      "source": [
        "def count_upper_lower(string):\n",
        "  upper_count=0\n",
        "  lower_count=0\n",
        "  for char in string:\n",
        "    if char.isupper():\n",
        "      upper_count +=1\n",
        "    elif char.islower():\n",
        "      lower_count +=1\n",
        "  return upper_count,lower_count\n",
        "\n",
        "\n",
        "text=input(\"Enter string to check:: \")\n",
        "upper,lower=count_upper_lower(text)\n",
        "print(\"Uppercase count::\",upper)\n",
        "print(\"lowercase count::\",lower)"
      ]
    },
    {
      "cell_type": "code",
      "source": [],
      "metadata": {
        "id": "-nrV29szViH4"
      },
      "execution_count": null,
      "outputs": []
    }
  ]
}