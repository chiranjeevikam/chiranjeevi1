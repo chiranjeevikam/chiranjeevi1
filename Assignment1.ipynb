{
  "nbformat": 4,
  "nbformat_minor": 0,
  "metadata": {
    "colab": {
      "provenance": [],
      "authorship_tag": "ABX9TyN4QK8mMr22gHtrNjYPuc4D",
      "include_colab_link": true
    },
    "kernelspec": {
      "name": "python3",
      "display_name": "Python 3"
    },
    "language_info": {
      "name": "python"
    }
  },
  "cells": [
    {
      "cell_type": "markdown",
      "metadata": {
        "id": "view-in-github",
        "colab_type": "text"
      },
      "source": [
        "<a href=\"https://colab.research.google.com/github/chiranjeevikam/chiranjeevi1/blob/main/Assignment1.ipynb\" target=\"_parent\"><img src=\"https://colab.research.google.com/assets/colab-badge.svg\" alt=\"Open In Colab\"/></a>"
      ]
    },
    {
      "cell_type": "code",
      "execution_count": null,
      "metadata": {
        "colab": {
          "base_uri": "https://localhost:8080/"
        },
        "id": "Te3QM6RC6Jhm",
        "outputId": "9792f1ef-45d6-4c2f-a113-66593570ba16"
      },
      "outputs": [
        {
          "output_type": "stream",
          "name": "stdout",
          "text": [
            "Enter a number:: 6\n",
            "Fizz\n"
          ]
        }
      ],
      "source": [
        "num=int(input(\"Enter a number:: \"))\n",
        "if num%3==0 and num%5==0:\n",
        "  print(\"Fizz Buzz\")\n",
        "elif num%3==0:\n",
        "  print(\"Fizz\")\n",
        "elif num%5==0:\n",
        "  print(\"Buzz\")\n",
        "else:\n",
        "  print(\"Not a multiple 0f 3 and 5\")"
      ]
    },
    {
      "cell_type": "code",
      "source": [
        "num=int(input(\"Enter a number:: \"))\n",
        "if num%3==0 and num%5==0:\n",
        "  print(\"Fizz Buzz\")\n",
        "elif num%3==0:\n",
        "  print(\"Fizz\")\n",
        "elif num%5==0:\n",
        "  print(\"Buzz\")\n",
        "else:\n",
        "  print(\"Not a multiple 0f 3 and 5\")"
      ],
      "metadata": {
        "colab": {
          "base_uri": "https://localhost:8080/"
        },
        "id": "hR0WBdli6roa",
        "outputId": "b3d181c6-c6b2-4418-f22b-c8808baa1167"
      },
      "execution_count": null,
      "outputs": [
        {
          "output_type": "stream",
          "name": "stdout",
          "text": [
            "Enter a number:: 15\n",
            "Fizz Buzz\n"
          ]
        }
      ]
    },
    {
      "cell_type": "code",
      "source": [
        "num=int(input(\"Enter a number:: \"))\n",
        "if num%3==0 and num%5==0:\n",
        "  print(\"Fizz Buzz\")\n",
        "elif num%3==0:\n",
        "  print(\"Fizz\")\n",
        "elif num%5==0:\n",
        "  print(\"Buzz\")\n",
        "else:\n",
        "  print(\"Not a multiple 0f 3 and 5\")"
      ],
      "metadata": {
        "colab": {
          "base_uri": "https://localhost:8080/"
        },
        "id": "_JSxCfyQ7FD3",
        "outputId": "d763bdeb-85b5-4d72-8329-e29d281e90bc"
      },
      "execution_count": null,
      "outputs": [
        {
          "output_type": "stream",
          "name": "stdout",
          "text": [
            "Enter a number:: 10\n",
            "Buzz\n"
          ]
        }
      ]
    },
    {
      "cell_type": "code",
      "source": [
        "num=int(input(\"Enter a number:: \"))\n",
        "if num%3==0 and num%5==0:\n",
        "  print(\"Fizz Buzz\")\n",
        "elif num%3==0:\n",
        "  print(\"Fizz\")\n",
        "elif num%5==0:\n",
        "  print(\"Buzz\")\n",
        "else:\n",
        "  print(\"Not a multiple 0f 3 and 5\")"
      ],
      "metadata": {
        "colab": {
          "base_uri": "https://localhost:8080/"
        },
        "id": "IOXgbp5f7LS5",
        "outputId": "19abc68b-c380-4eb0-996a-d6a4cacee766"
      },
      "execution_count": null,
      "outputs": [
        {
          "output_type": "stream",
          "name": "stdout",
          "text": [
            "Enter a number:: 8\n",
            "Not a multiple 0f 3 and 5\n"
          ]
        }
      ]
    },
    {
      "cell_type": "code",
      "source": [],
      "metadata": {
        "id": "LzpYpYUP7PWa"
      },
      "execution_count": null,
      "outputs": []
    }
  ]
}