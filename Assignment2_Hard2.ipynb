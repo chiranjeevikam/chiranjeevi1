{
  "nbformat": 4,
  "nbformat_minor": 0,
  "metadata": {
    "colab": {
      "provenance": [],
      "authorship_tag": "ABX9TyMnO5FHoGfYyO5PPZofM3Px",
      "include_colab_link": true
    },
    "kernelspec": {
      "name": "python3",
      "display_name": "Python 3"
    },
    "language_info": {
      "name": "python"
    }
  },
  "cells": [
    {
      "cell_type": "markdown",
      "metadata": {
        "id": "view-in-github",
        "colab_type": "text"
      },
      "source": [
        "<a href=\"https://colab.research.google.com/github/chiranjeevikam/chiranjeevi1/blob/main/Assignment2_Hard2.ipynb\" target=\"_parent\"><img src=\"https://colab.research.google.com/assets/colab-badge.svg\" alt=\"Open In Colab\"/></a>"
      ]
    },
    {
      "cell_type": "code",
      "execution_count": null,
      "metadata": {
        "colab": {
          "base_uri": "https://localhost:8080/"
        },
        "id": "IsqrVZDhW8pX",
        "outputId": "d7822df8-eebe-41a5-c682-bdbd0759e840"
      },
      "outputs": [
        {
          "output_type": "stream",
          "name": "stdout",
          "text": [
            "avaerage for each list [2.0, 4.5, 0.0]\n",
            "sum of each average 6.5\n"
          ]
        }
      ],
      "source": [
        "L = [[1,2,3],[ 4,5,6,3 ],[-1,-2,-10,5,8]]\n",
        "\n",
        "average_from_each_list=[]\n",
        "\n",
        "total_sum=0\n",
        "\n",
        "for e in L:\n",
        "  average=sum(e)/len(e)\n",
        "  average_from_each_list.append(average)\n",
        "  total_sum+=average\n",
        "print(\"avaerage for each list\",average_from_each_list)\n",
        "\n",
        "print(\"sum of each average\",total_sum)"
      ]
    },
    {
      "cell_type": "code",
      "source": [],
      "metadata": {
        "id": "ZgDcBPEzXCaw"
      },
      "execution_count": null,
      "outputs": []
    }
  ]
}