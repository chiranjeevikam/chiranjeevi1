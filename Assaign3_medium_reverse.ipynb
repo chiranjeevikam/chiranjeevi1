{
  "nbformat": 4,
  "nbformat_minor": 0,
  "metadata": {
    "colab": {
      "provenance": [],
      "authorship_tag": "ABX9TyMtxDERTuxWNzCzumgzdhSS",
      "include_colab_link": true
    },
    "kernelspec": {
      "name": "python3",
      "display_name": "Python 3"
    },
    "language_info": {
      "name": "python"
    }
  },
  "cells": [
    {
      "cell_type": "markdown",
      "metadata": {
        "id": "view-in-github",
        "colab_type": "text"
      },
      "source": [
        "<a href=\"https://colab.research.google.com/github/chiranjeevikam/chiranjeevi1/blob/main/Assaign3_medium_reverse.ipynb\" target=\"_parent\"><img src=\"https://colab.research.google.com/assets/colab-badge.svg\" alt=\"Open In Colab\"/></a>"
      ]
    },
    {
      "cell_type": "code",
      "execution_count": null,
      "metadata": {
        "colab": {
          "base_uri": "https://localhost:8080/"
        },
        "id": "AWBvY2nAU0bF",
        "outputId": "8e56eb55-3d1b-4a7c-80c4-8ee7c92802ca"
      },
      "outputs": [
        {
          "output_type": "stream",
          "name": "stdout",
          "text": [
            "Enter a string: 12341abcd\n",
            "Reversed string:: dcba14321\n"
          ]
        }
      ],
      "source": [
        "def reverse_string(string):\n",
        "  reversed_string=string[::-1]\n",
        "  return reversed_string\n",
        "\n",
        "input_string=input(\"Enter a string: \")\n",
        "#input_String=\"1234abcd\"\n",
        "reversed_string=reverse_string(input_string)\n",
        "print(\"Reversed string::\",reversed_string)"
      ]
    },
    {
      "cell_type": "code",
      "source": [],
      "metadata": {
        "id": "SKNrRzvEU7CO"
      },
      "execution_count": null,
      "outputs": []
    }
  ]
}