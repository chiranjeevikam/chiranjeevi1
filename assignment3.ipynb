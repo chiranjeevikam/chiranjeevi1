{
  "nbformat": 4,
  "nbformat_minor": 0,
  "metadata": {
    "colab": {
      "provenance": [],
      "authorship_tag": "ABX9TyNtRnpx106oGHROFaycUck+",
      "include_colab_link": true
    },
    "kernelspec": {
      "name": "python3",
      "display_name": "Python 3"
    },
    "language_info": {
      "name": "python"
    }
  },
  "cells": [
    {
      "cell_type": "markdown",
      "metadata": {
        "id": "view-in-github",
        "colab_type": "text"
      },
      "source": [
        "<a href=\"https://colab.research.google.com/github/chiranjeevikam/chiranjeevi1/blob/main/assignment3.ipynb\" target=\"_parent\"><img src=\"https://colab.research.google.com/assets/colab-badge.svg\" alt=\"Open In Colab\"/></a>"
      ]
    },
    {
      "cell_type": "code",
      "execution_count": null,
      "metadata": {
        "colab": {
          "base_uri": "https://localhost:8080/"
        },
        "id": "4AezJuZR9h-_",
        "outputId": "e8142673-bcc3-4876-9fcb-4de7a836f526"
      },
      "outputs": [
        {
          "output_type": "stream",
          "name": "stdout",
          "text": [
            "Enter no of calls 90\n",
            "amount of the bill is  200\n"
          ]
        }
      ],
      "source": [
        "num_calls=int(input(\"Enter no of calls \"))\n",
        "bill=0\n",
        "if num_calls<=100:\n",
        "  bill=200\n",
        "elif num_calls<=150:\n",
        "  bill=200+(num_calls-100)*0.60\n",
        "elif num_calls<=200:\n",
        "  bill=200+50*0.60+(num_calls-150)*0.50\n",
        "else:\n",
        "  bill=200+50*0.60+50*0.50+(num_calls-150)*0.50\n",
        "print(\"amount of the bill is \",bill)"
      ]
    },
    {
      "cell_type": "code",
      "source": [
        "num_calls=int(input(\"Enter no of calls \"))\n",
        "bill=0\n",
        "if num_calls<=100:\n",
        "  bill=200\n",
        "elif num_calls<=150:\n",
        "  bill=200+(num_calls-100)*0.60\n",
        "elif num_calls<=200:\n",
        "  bill=200+50*0.60+(num_calls-150)*0.50\n",
        "else:\n",
        "  bill=200+50*0.60+50*0.50+(num_calls-150)*0.50\n",
        "print(\"amount of the bill is \",bill)"
      ],
      "metadata": {
        "colab": {
          "base_uri": "https://localhost:8080/"
        },
        "id": "ouQO-Rqz9yWy",
        "outputId": "e4d36604-eddb-4c2d-97b2-9a71e4e57754"
      },
      "execution_count": null,
      "outputs": [
        {
          "output_type": "stream",
          "name": "stdout",
          "text": [
            "Enter no of calls 140\n",
            "amount of the bill is  224.0\n"
          ]
        }
      ]
    },
    {
      "cell_type": "code",
      "source": [
        "num_calls=int(input(\"Enter no of calls \"))\n",
        "bill=0\n",
        "if num_calls<=100:\n",
        "  bill=200\n",
        "elif num_calls<=150:\n",
        "  bill=200+(num_calls-100)*0.60\n",
        "elif num_calls<=200:\n",
        "  bill=200+50*0.60+(num_calls-150)*0.50\n",
        "else:\n",
        "  bill=200+50*0.60+50*0.50+(num_calls-150)*0.50\n",
        "print(\"amount of the bill is \",bill)"
      ],
      "metadata": {
        "colab": {
          "base_uri": "https://localhost:8080/"
        },
        "id": "3rOumhlv-LVi",
        "outputId": "a51d7738-314e-44dc-f0f4-4dd73e5fc368"
      },
      "execution_count": null,
      "outputs": [
        {
          "output_type": "stream",
          "name": "stdout",
          "text": [
            "Enter no of calls 181\n",
            "amount of the bill is  245.5\n"
          ]
        }
      ]
    },
    {
      "cell_type": "code",
      "source": [
        "num_calls=int(input(\"Enter no of calls \"))\n",
        "bill=0\n",
        "if num_calls<=100:\n",
        "  bill=200\n",
        "elif num_calls<=150:\n",
        "  bill=200+(num_calls-100)*0.60\n",
        "elif num_calls<=200:\n",
        "  bill=200+50*0.60+(num_calls-150)*0.50\n",
        "else:\n",
        "  bill=200+50*0.60+50*0.50+(num_calls-150)*0.50\n",
        "print(\"amount of the bill is \",bill)"
      ],
      "metadata": {
        "colab": {
          "base_uri": "https://localhost:8080/"
        },
        "id": "DD_Bd8cg-bbL",
        "outputId": "45b0a176-d208-4da6-c6cb-f1d030df86ed"
      },
      "execution_count": null,
      "outputs": [
        {
          "output_type": "stream",
          "name": "stdout",
          "text": [
            "Enter no of calls 212\n",
            "amount of the bill is  286.0\n"
          ]
        }
      ]
    },
    {
      "cell_type": "code",
      "source": [],
      "metadata": {
        "id": "l63dU6uv-ff6"
      },
      "execution_count": null,
      "outputs": []
    }
  ]
}