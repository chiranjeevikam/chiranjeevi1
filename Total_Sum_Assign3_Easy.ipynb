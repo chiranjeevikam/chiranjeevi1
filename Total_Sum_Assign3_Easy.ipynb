{
  "nbformat": 4,
  "nbformat_minor": 0,
  "metadata": {
    "colab": {
      "provenance": [],
      "authorship_tag": "ABX9TyNleGCR48YyVJbSi1wbIdEF",
      "include_colab_link": true
    },
    "kernelspec": {
      "name": "python3",
      "display_name": "Python 3"
    },
    "language_info": {
      "name": "python"
    }
  },
  "cells": [
    {
      "cell_type": "markdown",
      "metadata": {
        "id": "view-in-github",
        "colab_type": "text"
      },
      "source": [
        "<a href=\"https://colab.research.google.com/github/chiranjeevikam/chiranjeevi1/blob/main/Total_Sum_Assign3_Easy.ipynb\" target=\"_parent\"><img src=\"https://colab.research.google.com/assets/colab-badge.svg\" alt=\"Open In Colab\"/></a>"
      ]
    },
    {
      "cell_type": "code",
      "execution_count": null,
      "metadata": {
        "colab": {
          "base_uri": "https://localhost:8080/"
        },
        "id": "OCEwATJzT_fG",
        "outputId": "f917fd25-33bb-4350-ccd7-9206539a1537"
      },
      "outputs": [
        {
          "output_type": "stream",
          "name": "stdout",
          "text": [
            "20\n"
          ]
        }
      ],
      "source": [
        "def sum_list(numbers):\n",
        "  total=sum(numbers)\n",
        "  return total\n",
        "\n",
        "List=[8,2,3,0,7]\n",
        "Total_Sum=sum_list(List)\n",
        "print(Total_Sum)"
      ]
    },
    {
      "cell_type": "code",
      "source": [],
      "metadata": {
        "id": "gZXXzSU4UKCL"
      },
      "execution_count": null,
      "outputs": []
    }
  ]
}