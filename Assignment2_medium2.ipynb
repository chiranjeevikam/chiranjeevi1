{
  "nbformat": 4,
  "nbformat_minor": 0,
  "metadata": {
    "colab": {
      "provenance": [],
      "authorship_tag": "ABX9TyO0i3STHnRp3bc6FgDpqwiL",
      "include_colab_link": true
    },
    "kernelspec": {
      "name": "python3",
      "display_name": "Python 3"
    },
    "language_info": {
      "name": "python"
    }
  },
  "cells": [
    {
      "cell_type": "markdown",
      "metadata": {
        "id": "view-in-github",
        "colab_type": "text"
      },
      "source": [
        "<a href=\"https://colab.research.google.com/github/chiranjeevikam/chiranjeevi1/blob/main/Assignment2_medium2.ipynb\" target=\"_parent\"><img src=\"https://colab.research.google.com/assets/colab-badge.svg\" alt=\"Open In Colab\"/></a>"
      ]
    },
    {
      "cell_type": "code",
      "execution_count": null,
      "metadata": {
        "colab": {
          "base_uri": "https://localhost:8080/"
        },
        "id": "m-tvtxMnOW72",
        "outputId": "8b51293b-1009-486b-deea-0eb8f6434bdc"
      },
      "outputs": [
        {
          "output_type": "stream",
          "name": "stdout",
          "text": [
            "enter search number3\n",
            "Number 3 doesnt exist in inner list\n",
            "Number 3 doesnt exist in inner list\n",
            "Number 3 doesnt exist in inner list\n",
            "Number 3 doesnt exist in inner list\n",
            "Number exists in inner list\n"
          ]
        }
      ],
      "source": [
        "L=[1,2,3,4,[4,3]]\n",
        "\n",
        "number=int(input(\"enter search number\"))\n",
        "\n",
        "for element in L:\n",
        "  if isinstance(element,list):\n",
        "    if number in element:\n",
        "      print(\"Number exists in inner list\")\n",
        "      break\n",
        "    else:\n",
        "      continue\n",
        "  else:\n",
        "    print(f\"Number {number} doesnt exist in inner list\")"
      ]
    },
    {
      "cell_type": "code",
      "source": [],
      "metadata": {
        "id": "DplgHKEpOkt3"
      },
      "execution_count": null,
      "outputs": []
    }
  ]
}