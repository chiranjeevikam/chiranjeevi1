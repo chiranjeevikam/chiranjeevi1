{
  "nbformat": 4,
  "nbformat_minor": 0,
  "metadata": {
    "colab": {
      "provenance": [],
      "authorship_tag": "ABX9TyNLBLrBxg4zbluFQ+RDn+hZ",
      "include_colab_link": true
    },
    "kernelspec": {
      "name": "python3",
      "display_name": "Python 3"
    },
    "language_info": {
      "name": "python"
    }
  },
  "cells": [
    {
      "cell_type": "markdown",
      "metadata": {
        "id": "view-in-github",
        "colab_type": "text"
      },
      "source": [
        "<a href=\"https://colab.research.google.com/github/chiranjeevikam/chiranjeevi1/blob/main/Assignment2_easy2.ipynb\" target=\"_parent\"><img src=\"https://colab.research.google.com/assets/colab-badge.svg\" alt=\"Open In Colab\"/></a>"
      ]
    },
    {
      "cell_type": "code",
      "execution_count": null,
      "metadata": {
        "colab": {
          "base_uri": "https://localhost:8080/"
        },
        "id": "tSGxmghlM0w8",
        "outputId": "f98765a2-96e1-4602-8349-a72006ecdc0a"
      },
      "outputs": [
        {
          "output_type": "stream",
          "name": "stdout",
          "text": [
            "Enter the length of your list: 10\n",
            "Enter the 1 number: 1\n",
            "Enter the 2 number: 2\n",
            "Enter the 3 number: 3\n",
            "Enter the 4 number: 4\n",
            "Enter the 5 number: 5\n",
            "Enter the 6 number: 6\n",
            "Enter the 7 number: 7\n",
            "Enter the 8 number: 8\n",
            "Enter the 9 number: 9\n",
            "Enter the 10 number: 10\n",
            " 10 is the Maximum number \n",
            " 1 is the Minimum number \n",
            " 5 is the average element in a list \n"
          ]
        }
      ],
      "source": [
        "list=[]\n",
        "n = int(input(\"Enter the length of your list: \"))\n",
        "for i in range (1,n+1):\n",
        "    a=int(input(\"Enter the %d number: \" %i ))\n",
        "    list.append(a)\n",
        "minimum=list[0]\n",
        "maximum=list[0]\n",
        "# average=sum(list)//n\n",
        "for i in range(1,n):\n",
        "    if maximum<list[i]:\n",
        "        maximum=list[i]\n",
        "    if minimum>list[i]:\n",
        "        minimum=list[i]\n",
        "sum_of_list=0\n",
        "for i in list:\n",
        "  sum_of_list+=i\n",
        "average=sum_of_list//n\n",
        "print(\" %d is the Maximum number \" %maximum)\n",
        "print(\" %d is the Minimum number \" %minimum)\n",
        "print(\" %d is the average element in a list \" %average)"
      ]
    },
    {
      "cell_type": "code",
      "source": [],
      "metadata": {
        "id": "RvYocj0eM55V"
      },
      "execution_count": null,
      "outputs": []
    }
  ]
}